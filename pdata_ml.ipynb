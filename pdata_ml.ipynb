{
 "cells": [
  {
   "cell_type": "code",
   "execution_count": 1,
   "metadata": {},
   "outputs": [],
   "source": [
    "%matplotlib inline\n",
    "%load_ext autoreload\n",
    "%autoreload 2"
   ]
  },
  {
   "cell_type": "code",
   "execution_count": 2,
   "metadata": {},
   "outputs": [],
   "source": [
    "from sklearn.datasets import load_wine\n",
    "from sklearn.model_selection import train_test_split\n",
    "from sklearn.utils import shuffle\n",
    "from sklearn.preprocessing import StandardScaler\n",
    "\n",
    "from sklearn.ensemble import RandomForestClassifier\n",
    "from sklearn.ensemble import AdaBoostClassifier\n",
    "from sklearn.tree import DecisionTreeClassifier\n",
    "from sklearn.svm import SVC\n",
    "\n",
    "from pprint import pprint"
   ]
  },
  {
   "cell_type": "code",
   "execution_count": 3,
   "metadata": {},
   "outputs": [],
   "source": [
    "import initdirs\n",
    "\n",
    "from pdata.ml import run_gscv\n",
    "from pdata.ml import gather_best_hyperparams\n",
    "from pdata.ml import gather_best_scores_for_all_gscv\n",
    "from pdata.ml import get_model_name\n",
    "from pdata.ml import cross_val_for_estimators\n",
    "from pdata.ml import MLData"
   ]
  },
  {
   "cell_type": "code",
   "execution_count": null,
   "metadata": {},
   "outputs": [],
   "source": []
  },
  {
   "cell_type": "code",
   "execution_count": 4,
   "metadata": {},
   "outputs": [],
   "source": [
    "X, y = load_wine(return_X_y=True, as_frame=True)"
   ]
  },
  {
   "cell_type": "code",
   "execution_count": null,
   "metadata": {},
   "outputs": [],
   "source": []
  },
  {
   "cell_type": "code",
   "execution_count": 5,
   "metadata": {},
   "outputs": [],
   "source": [
    "mldata = MLData(X)"
   ]
  },
  {
   "cell_type": "code",
   "execution_count": null,
   "metadata": {},
   "outputs": [],
   "source": []
  },
  {
   "cell_type": "code",
   "execution_count": 6,
   "metadata": {},
   "outputs": [],
   "source": [
    "X_shuffled, y_shuffled = shuffle(mldata.X_scaled, y, random_state=42)"
   ]
  },
  {
   "cell_type": "code",
   "execution_count": null,
   "metadata": {},
   "outputs": [],
   "source": []
  },
  {
   "cell_type": "code",
   "execution_count": 7,
   "metadata": {},
   "outputs": [],
   "source": [
    "setup = dict()\n",
    "\n",
    "setup['random_forest'] = {\n",
    "    'estimator': RandomForestClassifier(),\n",
    "    'param_grid': {\n",
    "        'n_estimators': [5, 10, 20], \n",
    "        'min_samples_split': (2, 4, 8, 16, 32),\n",
    "        'min_samples_leaf': (1, 2, 4, 8),\n",
    "        'criterion': ['gini', 'entropy'],\n",
    "        'random_state': [1, 4, 42, 100],\n",
    "    }\n",
    "}\n",
    "\n",
    "setup['adaboost'] = {\n",
    "    'estimator': AdaBoostClassifier(),\n",
    "    'param_grid': {\n",
    "        'base_estimator': [DecisionTreeClassifier(max_depth=1), DecisionTreeClassifier(max_depth=2)],\n",
    "        'n_estimators': [10, 25, 50],\n",
    "        'learning_rate': [0.5, 1.],\n",
    "        'algorithm': ['SAMME', 'SAMME.R'],\n",
    "        'random_state': [1, 4, 42, 100],\n",
    "    }\n",
    "}\n",
    "\n",
    "setup['svm'] = {\n",
    "    'estimator': SVC(),\n",
    "    'param_grid': {\n",
    "        'C': [0.5, 1., 1.5, 2.],\n",
    "        'kernel': ['linear', 'poly', 'rbf', 'sigmoid'],\n",
    "        'gamma': ['scale', 'auto'],\n",
    "        'random_state': [1, 4, 42, 100],\n",
    "    }\n",
    "}"
   ]
  },
  {
   "cell_type": "code",
   "execution_count": null,
   "metadata": {},
   "outputs": [],
   "source": []
  },
  {
   "cell_type": "code",
   "execution_count": 8,
   "metadata": {},
   "outputs": [
    {
     "name": "stdout",
     "output_type": "stream",
     "text": [
      "{'adaboost': {'estimator': AdaBoostClassifier(),\n",
      "              'param_grid': {'algorithm': ['SAMME', 'SAMME.R'],\n",
      "                             'base_estimator': [DecisionTreeClassifier(max_depth=1),\n",
      "                                                DecisionTreeClassifier(max_depth=2)],\n",
      "                             'learning_rate': [0.5, 1.0],\n",
      "                             'n_estimators': [10, 25, 50],\n",
      "                             'random_state': [1, 4, 42, 100]}},\n",
      " 'random_forest': {'estimator': RandomForestClassifier(),\n",
      "                   'param_grid': {'criterion': ['gini', 'entropy'],\n",
      "                                  'min_samples_leaf': (1, 2, 4, 8),\n",
      "                                  'min_samples_split': (2, 4, 8, 16, 32),\n",
      "                                  'n_estimators': [5, 10, 20],\n",
      "                                  'random_state': [1, 4, 42, 100]}},\n",
      " 'svm': {'estimator': SVC(),\n",
      "         'param_grid': {'C': [0.5, 1.0, 1.5, 2.0],\n",
      "                        'gamma': ['scale', 'auto'],\n",
      "                        'kernel': ['linear', 'poly', 'rbf', 'sigmoid'],\n",
      "                        'random_state': [1, 4, 42, 100]}}}\n"
     ]
    }
   ],
   "source": [
    "pprint(setup)"
   ]
  },
  {
   "cell_type": "code",
   "execution_count": null,
   "metadata": {},
   "outputs": [],
   "source": []
  },
  {
   "cell_type": "code",
   "execution_count": 9,
   "metadata": {},
   "outputs": [
    {
     "data": {
      "text/plain": [
       "'RandomForestClassifier'"
      ]
     },
     "execution_count": 9,
     "metadata": {},
     "output_type": "execute_result"
    }
   ],
   "source": [
    "get_model_name(setup['random_forest']['estimator'])"
   ]
  },
  {
   "cell_type": "code",
   "execution_count": null,
   "metadata": {},
   "outputs": [],
   "source": []
  },
  {
   "cell_type": "code",
   "execution_count": 10,
   "metadata": {},
   "outputs": [
    {
     "data": {
      "text/plain": [
       "[RandomForestClassifier(), AdaBoostClassifier(), SVC()]"
      ]
     },
     "execution_count": 10,
     "metadata": {},
     "output_type": "execute_result"
    }
   ],
   "source": [
    "estimators = [entry['estimator'] for entry in setup.values()]\n",
    "estimators"
   ]
  },
  {
   "cell_type": "code",
   "execution_count": 11,
   "metadata": {},
   "outputs": [
    {
     "data": {
      "text/html": [
       "<div>\n",
       "<style scoped>\n",
       "    .dataframe tbody tr th:only-of-type {\n",
       "        vertical-align: middle;\n",
       "    }\n",
       "\n",
       "    .dataframe tbody tr th {\n",
       "        vertical-align: top;\n",
       "    }\n",
       "\n",
       "    .dataframe thead th {\n",
       "        text-align: right;\n",
       "    }\n",
       "</style>\n",
       "<table border=\"1\" class=\"dataframe\">\n",
       "  <thead>\n",
       "    <tr style=\"text-align: right;\">\n",
       "      <th></th>\n",
       "      <th>fold_1</th>\n",
       "      <th>fold_2</th>\n",
       "      <th>fold_3</th>\n",
       "      <th>fold_4</th>\n",
       "      <th>fold_5</th>\n",
       "      <th>cv_score_mean</th>\n",
       "    </tr>\n",
       "  </thead>\n",
       "  <tbody>\n",
       "    <tr>\n",
       "      <th>0</th>\n",
       "      <td>1.000000</td>\n",
       "      <td>1.000000</td>\n",
       "      <td>0.944444</td>\n",
       "      <td>0.971429</td>\n",
       "      <td>1.000000</td>\n",
       "      <td>0.983175</td>\n",
       "    </tr>\n",
       "    <tr>\n",
       "      <th>1</th>\n",
       "      <td>0.944444</td>\n",
       "      <td>0.888889</td>\n",
       "      <td>0.666667</td>\n",
       "      <td>0.914286</td>\n",
       "      <td>0.971429</td>\n",
       "      <td>0.877143</td>\n",
       "    </tr>\n",
       "    <tr>\n",
       "      <th>2</th>\n",
       "      <td>1.000000</td>\n",
       "      <td>1.000000</td>\n",
       "      <td>0.972222</td>\n",
       "      <td>0.971429</td>\n",
       "      <td>0.971429</td>\n",
       "      <td>0.983016</td>\n",
       "    </tr>\n",
       "  </tbody>\n",
       "</table>\n",
       "</div>"
      ],
      "text/plain": [
       "     fold_1    fold_2    fold_3    fold_4    fold_5  cv_score_mean\n",
       "0  1.000000  1.000000  0.944444  0.971429  1.000000       0.983175\n",
       "1  0.944444  0.888889  0.666667  0.914286  0.971429       0.877143\n",
       "2  1.000000  1.000000  0.972222  0.971429  0.971429       0.983016"
      ]
     },
     "execution_count": 11,
     "metadata": {},
     "output_type": "execute_result"
    }
   ],
   "source": [
    "cross_val_for_estimators(estimators, X_shuffled, y_shuffled)"
   ]
  },
  {
   "cell_type": "code",
   "execution_count": null,
   "metadata": {},
   "outputs": [],
   "source": []
  },
  {
   "cell_type": "code",
   "execution_count": null,
   "metadata": {},
   "outputs": [],
   "source": []
  },
  {
   "cell_type": "code",
   "execution_count": 12,
   "metadata": {},
   "outputs": [],
   "source": [
    "gscv_res = run_gscv(X_shuffled, y_shuffled, setup, score_func=None)"
   ]
  },
  {
   "cell_type": "code",
   "execution_count": 13,
   "metadata": {},
   "outputs": [
    {
     "data": {
      "text/plain": [
       "{'random_forest': GridSearchCV(cv=4, estimator=RandomForestClassifier(),\n",
       "              param_grid={'criterion': ['gini', 'entropy'],\n",
       "                          'min_samples_leaf': (1, 2, 4, 8),\n",
       "                          'min_samples_split': (2, 4, 8, 16, 32),\n",
       "                          'n_estimators': [5, 10, 20],\n",
       "                          'random_state': [1, 4, 42, 100]}),\n",
       " 'adaboost': GridSearchCV(cv=4, estimator=AdaBoostClassifier(),\n",
       "              param_grid={'algorithm': ['SAMME', 'SAMME.R'],\n",
       "                          'base_estimator': [DecisionTreeClassifier(max_depth=1),\n",
       "                                             DecisionTreeClassifier(max_depth=2)],\n",
       "                          'learning_rate': [0.5, 1.0],\n",
       "                          'n_estimators': [10, 25, 50],\n",
       "                          'random_state': [1, 4, 42, 100]}),\n",
       " 'svm': GridSearchCV(cv=4, estimator=SVC(),\n",
       "              param_grid={'C': [0.5, 1.0, 1.5, 2.0], 'gamma': ['scale', 'auto'],\n",
       "                          'kernel': ['linear', 'poly', 'rbf', 'sigmoid'],\n",
       "                          'random_state': [1, 4, 42, 100]})}"
      ]
     },
     "execution_count": 13,
     "metadata": {},
     "output_type": "execute_result"
    }
   ],
   "source": [
    "gscv_res"
   ]
  },
  {
   "cell_type": "code",
   "execution_count": null,
   "metadata": {},
   "outputs": [],
   "source": []
  },
  {
   "cell_type": "code",
   "execution_count": 14,
   "metadata": {},
   "outputs": [
    {
     "data": {
      "text/html": [
       "<div>\n",
       "<style scoped>\n",
       "    .dataframe tbody tr th:only-of-type {\n",
       "        vertical-align: middle;\n",
       "    }\n",
       "\n",
       "    .dataframe tbody tr th {\n",
       "        vertical-align: top;\n",
       "    }\n",
       "\n",
       "    .dataframe thead th {\n",
       "        text-align: right;\n",
       "    }\n",
       "</style>\n",
       "<table border=\"1\" class=\"dataframe\">\n",
       "  <thead>\n",
       "    <tr style=\"text-align: right;\">\n",
       "      <th></th>\n",
       "      <th>algorithm</th>\n",
       "      <th>base_estimator</th>\n",
       "      <th>learning_rate</th>\n",
       "      <th>n_estimators</th>\n",
       "      <th>random_state</th>\n",
       "    </tr>\n",
       "  </thead>\n",
       "  <tbody>\n",
       "    <tr>\n",
       "      <th>0</th>\n",
       "      <td>SAMME.R</td>\n",
       "      <td>DecisionTreeClassifier(max_depth=2)</td>\n",
       "      <td>1.0</td>\n",
       "      <td>10</td>\n",
       "      <td>1</td>\n",
       "    </tr>\n",
       "  </tbody>\n",
       "</table>\n",
       "</div>"
      ],
      "text/plain": [
       "  algorithm                       base_estimator  learning_rate  n_estimators  \\\n",
       "0   SAMME.R  DecisionTreeClassifier(max_depth=2)            1.0            10   \n",
       "\n",
       "   random_state  \n",
       "0             1  "
      ]
     },
     "execution_count": 14,
     "metadata": {},
     "output_type": "execute_result"
    }
   ],
   "source": [
    "gather_best_hyperparams(gscv_res['adaboost'])"
   ]
  },
  {
   "cell_type": "code",
   "execution_count": null,
   "metadata": {},
   "outputs": [],
   "source": []
  },
  {
   "cell_type": "code",
   "execution_count": 15,
   "metadata": {},
   "outputs": [
    {
     "data": {
      "text/html": [
       "<div>\n",
       "<style scoped>\n",
       "    .dataframe tbody tr th:only-of-type {\n",
       "        vertical-align: middle;\n",
       "    }\n",
       "\n",
       "    .dataframe tbody tr th {\n",
       "        vertical-align: top;\n",
       "    }\n",
       "\n",
       "    .dataframe thead th {\n",
       "        text-align: right;\n",
       "    }\n",
       "</style>\n",
       "<table border=\"1\" class=\"dataframe\">\n",
       "  <thead>\n",
       "    <tr style=\"text-align: right;\">\n",
       "      <th></th>\n",
       "      <th>best_score</th>\n",
       "      <th>n_with_best</th>\n",
       "      <th>grid_size</th>\n",
       "      <th>share_with_best</th>\n",
       "    </tr>\n",
       "  </thead>\n",
       "  <tbody>\n",
       "    <tr>\n",
       "      <th>random_forest</th>\n",
       "      <td>0.994318</td>\n",
       "      <td>1</td>\n",
       "      <td>480</td>\n",
       "      <td>0.002083</td>\n",
       "    </tr>\n",
       "    <tr>\n",
       "      <th>adaboost</th>\n",
       "      <td>0.983207</td>\n",
       "      <td>1</td>\n",
       "      <td>96</td>\n",
       "      <td>0.010417</td>\n",
       "    </tr>\n",
       "    <tr>\n",
       "      <th>svm</th>\n",
       "      <td>0.983081</td>\n",
       "      <td>16</td>\n",
       "      <td>128</td>\n",
       "      <td>0.125000</td>\n",
       "    </tr>\n",
       "  </tbody>\n",
       "</table>\n",
       "</div>"
      ],
      "text/plain": [
       "               best_score  n_with_best  grid_size  share_with_best\n",
       "random_forest    0.994318            1        480         0.002083\n",
       "adaboost         0.983207            1         96         0.010417\n",
       "svm              0.983081           16        128         0.125000"
      ]
     },
     "execution_count": 15,
     "metadata": {},
     "output_type": "execute_result"
    }
   ],
   "source": [
    "gather_best_scores_for_all_gscv(gscv_res)"
   ]
  },
  {
   "cell_type": "code",
   "execution_count": null,
   "metadata": {},
   "outputs": [],
   "source": []
  },
  {
   "cell_type": "code",
   "execution_count": 16,
   "metadata": {},
   "outputs": [
    {
     "data": {
      "text/plain": [
       "flavanoids                      0.201769\n",
       "color_intensity                 0.185608\n",
       "proline                         0.145691\n",
       "hue                             0.105495\n",
       "od280/od315_of_diluted_wines    0.100632\n",
       "alcohol                         0.088317\n",
       "magnesium                       0.039043\n",
       "total_phenols                   0.038028\n",
       "malic_acid                      0.035012\n",
       "proanthocyanins                 0.024783\n",
       "alcalinity_of_ash               0.022351\n",
       "ash                             0.009788\n",
       "nonflavanoid_phenols            0.003484\n",
       "dtype: float64"
      ]
     },
     "execution_count": 16,
     "metadata": {},
     "output_type": "execute_result"
    }
   ],
   "source": [
    "mldata.summarize_importances(\n",
    "    gscv_res['random_forest'].best_estimator_.feature_importances_\n",
    ")"
   ]
  },
  {
   "cell_type": "code",
   "execution_count": null,
   "metadata": {},
   "outputs": [],
   "source": []
  }
 ],
 "metadata": {
  "kernelspec": {
   "display_name": "Python 3",
   "language": "python",
   "name": "python3"
  },
  "language_info": {
   "codemirror_mode": {
    "name": "ipython",
    "version": 3
   },
   "file_extension": ".py",
   "mimetype": "text/x-python",
   "name": "python",
   "nbconvert_exporter": "python",
   "pygments_lexer": "ipython3",
   "version": "3.7.10"
  }
 },
 "nbformat": 4,
 "nbformat_minor": 2
}
