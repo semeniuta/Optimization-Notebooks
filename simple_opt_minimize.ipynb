{
 "cells": [
  {
   "cell_type": "code",
   "execution_count": 1,
   "metadata": {},
   "outputs": [],
   "source": [
    "%matplotlib inline\n",
    "%load_ext autoreload\n",
    "%autoreload 2"
   ]
  },
  {
   "cell_type": "code",
   "execution_count": 2,
   "metadata": {},
   "outputs": [],
   "source": [
    "import numpy as np\n",
    "from scipy import optimize as opt\n",
    "from matplotlib import pyplot as plt"
   ]
  },
  {
   "cell_type": "code",
   "execution_count": 3,
   "metadata": {},
   "outputs": [],
   "source": [
    "import initdirs\n",
    "\n",
    "from pdata.visualize import plot_contour"
   ]
  },
  {
   "cell_type": "code",
   "execution_count": null,
   "metadata": {},
   "outputs": [],
   "source": []
  },
  {
   "cell_type": "markdown",
   "metadata": {},
   "source": [
    "$f(x_1, x_2) = x_1^2 + x_2^2 + sin(x_1 + 1.5) - 2 sin(x_2) + x_2$"
   ]
  },
  {
   "cell_type": "code",
   "execution_count": 4,
   "metadata": {},
   "outputs": [
    {
     "name": "stdout",
     "output_type": "stream",
     "text": [
      "      fun: 0.7758496354822735\n",
      " hess_inv: array([[0.97823149, 0.00301471],\n",
      "       [0.00301471, 0.35628245]])\n",
      "      jac: array([5.81145287e-07, 1.34110451e-06])\n",
      "  message: 'Optimization terminated successfully.'\n",
      "     nfev: 18\n",
      "      nit: 5\n",
      "     njev: 6\n",
      "   status: 0\n",
      "  success: True\n",
      "        x: array([-0.07032778,  0.41508337])\n"
     ]
    },
    {
     "data": {
      "image/png": "[encoded data removed]",
      "text/plain": [
       "<Figure size 432x288 with 2 Axes>"
      ]
     },
     "metadata": {
      "needs_background": "light"
     },
     "output_type": "display_data"
    }
   ],
   "source": [
    "domain_xy = np.meshgrid(np.arange(-3, 3, 0.25), np.arange(-3, 3, 0.25))\n",
    "\n",
    "def func(x):\n",
    "    return x[0]**2 + x[1]**2 + np.sin(x[0] + 1.5) - 2 * np.sin(x[1]) +  x[1]\n",
    "\n",
    "func_z = func(domain_xy)\n",
    "\n",
    "res = opt.minimize(func, x0=[1., 1.])\n",
    "print(res)\n",
    "\n",
    "plot_contour(domain_xy[0], domain_xy[1], func_z, cmap='jet', levels=20)\n",
    "_ = plt.scatter(res.x[0], res.x[1], color='r')"
   ]
  },
  {
   "cell_type": "code",
   "execution_count": null,
   "metadata": {},
   "outputs": [],
   "source": []
  }
 ],
 "metadata": {
  "kernelspec": {
   "display_name": "Python 3",
   "language": "python",
   "name": "python3"
  },
  "language_info": {
   "codemirror_mode": {
    "name": "ipython",
    "version": 3
   },
   "file_extension": ".py",
   "mimetype": "text/x-python",
   "name": "python",
   "nbconvert_exporter": "python",
   "pygments_lexer": "ipython3",
   "version": "3.7.6"
  }
 },
 "nbformat": 4,
 "nbformat_minor": 2
}
