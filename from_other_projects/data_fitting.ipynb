{
 "cells": [
  {
   "cell_type": "markdown",
   "metadata": {},
   "source": [
    "# SMT Python Seminar - Model fitting\n",
    "\n",
    "* `numpy.polyfit`\n",
    "* Least-squares solution to $\\mathbf{Ax} = \\mathbf{b}$: `numpy.linalg.lstsq`"
   ]
  },
  {
   "cell_type": "markdown",
   "metadata": {},
   "source": [
    "## Enabling some magic"
   ]
  },
  {
   "cell_type": "markdown",
   "metadata": {},
   "source": [
    "More on the Jupyter magic commands: https://alexsm.com/jupyter-notebook-ipython-magic/"
   ]
  },
  {
   "cell_type": "code",
   "execution_count": 1,
   "metadata": {
    "scrolled": true
   },
   "outputs": [],
   "source": [
    "%matplotlib inline\n",
    "%load_ext autoreload\n",
    "%autoreload 2"
   ]
  },
  {
   "cell_type": "code",
   "execution_count": 2,
   "metadata": {},
   "outputs": [
    {
     "data": {
      "application/javascript": [
       "IPython.OutputArea.prototype._should_scroll = function(lines) {\n",
       "    return false;\n",
       "}\n"
      ],
      "text/plain": [
       "<IPython.core.display.Javascript object>"
      ]
     },
     "metadata": {},
     "output_type": "display_data"
    }
   ],
   "source": [
    "%%javascript\n",
    "IPython.OutputArea.prototype._should_scroll = function(lines) {\n",
    "    return false;\n",
    "}"
   ]
  },
  {
   "cell_type": "markdown",
   "metadata": {},
   "source": [
    "## Imports"
   ]
  },
  {
   "cell_type": "code",
   "execution_count": 3,
   "metadata": {},
   "outputs": [],
   "source": [
    "import numpy as np\n",
    "import pandas as pd\n",
    "from scipy import stats\n",
    "from matplotlib import pyplot as plt"
   ]
  },
  {
   "cell_type": "markdown",
   "metadata": {},
   "source": [
    "## Least-squares polynomial fit\n",
    "\n",
    "https://docs.scipy.org/doc/numpy/reference/generated/numpy.polyfit.html"
   ]
  },
  {
   "cell_type": "markdown",
   "metadata": {},
   "source": [
    "Basic linear model:\n",
    "\n",
    "$y = ax + b$\n",
    "\n",
    "$y_{measured} = ax + b + \\epsilon$, where $\\epsilon \\sim N(0, \\sigma)$"
   ]
  },
  {
   "cell_type": "code",
   "execution_count": 4,
   "metadata": {},
   "outputs": [
    {
     "data": {
      "image/png": "[encoded data removed]",
      "text/plain": [
       "<Figure size 432x288 with 1 Axes>"
      ]
     },
     "metadata": {
      "needs_background": "light"
     },
     "output_type": "display_data"
    }
   ],
   "source": [
    "def demo_model_fit(a=2., b=3., normal_std=1.):\n",
    "    \n",
    "    x = np.arange(-5, 5, 0.1)\n",
    "    y_true = a * x + b \n",
    "    y_noisy = y_true + np.random.normal(scale=normal_std, size=len(x))\n",
    "    \n",
    "    coefs = np.polyfit(x, y_noisy, deg=1)\n",
    "    fitted_polynimial = np.poly1d(coefs)\n",
    "    \n",
    "    plt.scatter(x, y_noisy)\n",
    "    plt.plot(x, fitted_polynimial(x), color='orange')\n",
    "    plt.title('a={:.3f}, b={:.3f}'.format(coefs[0], coefs[1]))\n",
    "\n",
    "    \n",
    "demo_model_fit(normal_std=1.)"
   ]
  },
  {
   "cell_type": "markdown",
   "metadata": {},
   "source": [
    "## Direct utilization of `np.linalg.lstsq`\n",
    "\n",
    "https://docs.scipy.org/doc/numpy/reference/generated/numpy.linalg.lstsq.html"
   ]
  },
  {
   "cell_type": "code",
   "execution_count": 5,
   "metadata": {},
   "outputs": [
    {
     "name": "stdout",
     "output_type": "stream",
     "text": [
      "Order of powers:\n",
      "0\n",
      "1\n",
      "2\n",
      "A=\n",
      "[[ 1.   -5.   25.  ]\n",
      " [ 1.   -4.5  20.25]\n",
      " [ 1.   -4.   16.  ]\n",
      " [ 1.   -3.5  12.25]\n",
      " [ 1.   -3.    9.  ]\n",
      " [ 1.   -2.5   6.25]\n",
      " [ 1.   -2.    4.  ]\n",
      " [ 1.   -1.5   2.25]\n",
      " [ 1.   -1.    1.  ]\n",
      " [ 1.   -0.5   0.25]\n",
      " [ 1.    0.    0.  ]\n",
      " [ 1.    0.5   0.25]\n",
      " [ 1.    1.    1.  ]\n",
      " [ 1.    1.5   2.25]\n",
      " [ 1.    2.    4.  ]\n",
      " [ 1.    2.5   6.25]\n",
      " [ 1.    3.    9.  ]\n",
      " [ 1.    3.5  12.25]\n",
      " [ 1.    4.   16.  ]\n",
      " [ 1.    4.5  20.25]]\n",
      "Estimated coefficients:\n",
      "[4.45397474 4.41601492 2.07152228]\n"
     ]
    },
    {
     "data": {
      "image/png": "[encoded data removed]",
      "text/plain": [
       "<Figure size 432x288 with 1 Axes>"
      ]
     },
     "metadata": {
      "needs_background": "light"
     },
     "output_type": "display_data"
    }
   ],
   "source": [
    "def demo_lstsq(true_coefs, normal_std=1.):\n",
    "    \n",
    "    x = np.arange(-5, 5, 0.5)\n",
    "    \n",
    "    print('Order of powers:')\n",
    "    \n",
    "    y_true = np.zeros_like(x)\n",
    "    for i, c in enumerate(true_coefs):\n",
    "        y_true += c*(x**i)\n",
    "        print(i)\n",
    "    \n",
    "    y_noisy = y_true + np.random.normal(scale=normal_std, size=len(x))\n",
    "        \n",
    "    A_size = (len(x), len(true_coefs))\n",
    "    A = np.ones(A_size)\n",
    "    for j in range(1, len(true_coefs)):\n",
    "        A[:, j] = x**j\n",
    "    \n",
    "    print('A=')\n",
    "    print(A)\n",
    "    \n",
    "    estimated_coefs, _, _, _ = np.linalg.lstsq(A, y_noisy, rcond=None)\n",
    "    print('Estimated coefficients:')\n",
    "    print(estimated_coefs)\n",
    "    \n",
    "    fitted_model = np.poly1d(list(reversed(estimated_coefs)))\n",
    "    \n",
    "    plt.scatter(x, y_noisy)\n",
    "    plt.plot(x, fitted_model(x), color='orange')\n",
    "    \n",
    "\n",
    "demo_lstsq([5, 4, 2], normal_std=2.)"
   ]
  },
  {
   "cell_type": "code",
   "execution_count": null,
   "metadata": {},
   "outputs": [],
   "source": []
  }
 ],
 "metadata": {
  "kernelspec": {
   "display_name": "Python 3",
   "language": "python",
   "name": "python3"
  },
  "language_info": {
   "codemirror_mode": {
    "name": "ipython",
    "version": 3
   },
   "file_extension": ".py",
   "mimetype": "text/x-python",
   "name": "python",
   "nbconvert_exporter": "python",
   "pygments_lexer": "ipython3",
   "version": "3.6.7"
  }
 },
 "nbformat": 4,
 "nbformat_minor": 2
}
