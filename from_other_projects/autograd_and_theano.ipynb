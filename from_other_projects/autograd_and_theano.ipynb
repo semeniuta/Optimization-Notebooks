{
 "cells": [
  {
   "cell_type": "markdown",
   "metadata": {},
   "source": [
    "Autograd tutorial: https://github.com/HIPS/autograd/blob/master/docs/tutorial.md"
   ]
  },
  {
   "cell_type": "code",
   "execution_count": 1,
   "metadata": {},
   "outputs": [],
   "source": [
    "%matplotlib inline\n",
    "%load_ext autoreload\n",
    "%autoreload 2\n",
    "import sys, os"
   ]
  },
  {
   "cell_type": "code",
   "execution_count": 2,
   "metadata": {},
   "outputs": [],
   "source": [
    "from matplotlib import pyplot as plt\n",
    "import networkx as nx\n",
    "import nxpd\n",
    "\n",
    "nxpd.nxpdParams['show'] = 'ipynb'"
   ]
  },
  {
   "cell_type": "code",
   "execution_count": 3,
   "metadata": {},
   "outputs": [],
   "source": [
    "from autograd import numpy as np\n",
    "from autograd import grad, jacobian\n",
    "\n",
    "import theano\n",
    "from theano import tensor as tt"
   ]
  },
  {
   "cell_type": "markdown",
   "metadata": {},
   "source": [
    "Function from the [Baydin et al. paper](https://arxiv.org/abs/1502.05767): \n",
    "\n",
    "$f(x_1, x_2) = ln(x_1) + x_1 x_2 - sin(x_2)$"
   ]
  },
  {
   "cell_type": "code",
   "execution_count": 4,
   "metadata": {},
   "outputs": [
    {
     "data": {
      "text/plain": [
       "array([5.5       , 1.71633781])"
      ]
     },
     "execution_count": 4,
     "metadata": {},
     "output_type": "execute_result"
    }
   ],
   "source": [
    "def baydin_func(x):\n",
    "    return np.log(x[0]) + x[0] * x[1] - np.sin(x[1])    \n",
    "\n",
    "baydin_grad = grad(baydin_func)\n",
    "\n",
    "x_test = np.array([2., 5.]) # the same as in the paper\n",
    "baydin_grad(x_test)"
   ]
  },
  {
   "cell_type": "markdown",
   "metadata": {},
   "source": [
    "Jacobian of a vector-valued function:\n",
    "\n",
    "$f: \\mathbb{R} \\rightarrow \\mathbb{R}^2$"
   ]
  },
  {
   "cell_type": "code",
   "execution_count": 5,
   "metadata": {},
   "outputs": [
    {
     "data": {
      "text/plain": [
       "array([-0.83907153,  0.54402111])"
      ]
     },
     "execution_count": 5,
     "metadata": {},
     "output_type": "execute_result"
    }
   ],
   "source": [
    "def one_to_two_func(x):\n",
    "    return np.array([np.sin(x), np.cos(x)])\n",
    "\n",
    "one_to_two_jac = jacobian(one_to_two_func)\n",
    "\n",
    "one_to_two_jac(10.)"
   ]
  },
  {
   "cell_type": "markdown",
   "metadata": {},
   "source": [
    "The same function $f(x_1, x_2) = ln(x_1) + x_1 x_2 - sin(x_2)$, with using Theano"
   ]
  },
  {
   "cell_type": "code",
   "execution_count": 6,
   "metadata": {},
   "outputs": [],
   "source": [
    "x = tt.vector()\n",
    "baydin_expression = np.log(x[0]) + x[0] * x[1] - np.sin(x[1])\n",
    "baydin_func_theano = theano.function([x], baydin_expression)"
   ]
  },
  {
   "cell_type": "code",
   "execution_count": 7,
   "metadata": {},
   "outputs": [
    {
     "name": "stdout",
     "output_type": "stream",
     "text": [
      "Comparing function calls f(test_value)\n",
      "autograd: 11.652071455223084\n",
      "theano: 11.652071455223084\n"
     ]
    }
   ],
   "source": [
    "print('Comparing function calls f(test_value)')\n",
    "print('autograd:', baydin_func(x_test))\n",
    "print('theano:', baydin_func_theano(x_test))"
   ]
  },
  {
   "cell_type": "code",
   "execution_count": 8,
   "metadata": {},
   "outputs": [],
   "source": [
    "baydin_grad_theano = theano.function([x], tt.grad(baydin_expression, x))"
   ]
  },
  {
   "cell_type": "code",
   "execution_count": 9,
   "metadata": {},
   "outputs": [
    {
     "data": {
      "text/plain": [
       "array([5.5       , 1.71633781])"
      ]
     },
     "execution_count": 9,
     "metadata": {},
     "output_type": "execute_result"
    }
   ],
   "source": [
    "baydin_grad_theano(x_test)"
   ]
  },
  {
   "cell_type": "code",
   "execution_count": null,
   "metadata": {},
   "outputs": [],
   "source": []
  }
 ],
 "metadata": {
  "kernelspec": {
   "display_name": "Python 3",
   "language": "python",
   "name": "python3"
  },
  "language_info": {
   "codemirror_mode": {
    "name": "ipython",
    "version": 3
   },
   "file_extension": ".py",
   "mimetype": "text/x-python",
   "name": "python",
   "nbconvert_exporter": "python",
   "pygments_lexer": "ipython3",
   "version": "3.6.7"
  }
 },
 "nbformat": 4,
 "nbformat_minor": 2
}
